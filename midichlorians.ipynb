{
 "cells": [
  {
   "cell_type": "code",
   "execution_count": 1,
   "metadata": {
    "collapsed": false
   },
   "outputs": [],
   "source": [
    "%matplotlib inline\n",
    "\n",
    "import os\n",
    "import datetime\n",
    "\n",
    "import tqdm\n",
    "import PIL.Image\n",
    "import PIL.ExifTags\n",
    "\n",
    "import numpy as np\n",
    "import pandas as pd\n",
    "import seaborn as sns"
   ]
  },
  {
   "cell_type": "code",
   "execution_count": 2,
   "metadata": {
    "collapsed": true
   },
   "outputs": [],
   "source": [
    "import subprocess\n",
    "\n",
    "class VideoEncoder:\n",
    "    \n",
    "    def __init__(self, ffmpeg_path='ffmpeg'):\n",
    "        self.ffmpeg = ffmpeg_path\n",
    "        self.proc = None\n",
    "        \n",
    "    def start(self, outfile, framerate=1, vcodec='mjpeg'):\n",
    "        if self.proc:\n",
    "            raise RuntimeError('Calling \"start()\" before process pipe was closed.')\n",
    "\n",
    "        cmd = (self.ffmpeg,\n",
    "                     '-y',\n",
    "                     '-r', str(framerate),\n",
    "                     '-f','image2pipe',\n",
    "                     '-vcodec', vcodec,\n",
    "                     '-i', 'pipe:', \n",
    "                     '-vcodec', 'libxvid', outfile)\n",
    "        \n",
    "        self.proc = subprocess.Popen(cmd, stdin=subprocess.PIPE)\n",
    "        \n",
    "    def encode(self, framelist):\n",
    "        ''' `framelist` must be an iterable of raw bytes '''\n",
    "        for frame in framelist:\n",
    "            self.proc.stdin.write(frame)\n",
    "            \n",
    "    def close(self):\n",
    "        self.proc.stdin.close()\n",
    "        self.proc = None"
   ]
  },
  {
   "cell_type": "code",
   "execution_count": 3,
   "metadata": {
    "collapsed": false
   },
   "outputs": [],
   "source": [
    "# Build a map of filename -> timestamp, camera, resolution\n",
    "TS_FORMAT = '%Y:%m:%d %H:%M:%S'\n",
    "ts_map = {}\n",
    "for fname in [f for f in os.listdir('session') if os.path.isfile(os.path.join('session', f))]:\n",
    "    img = PIL.Image.open(os.path.join('session', fname))\n",
    "    exif = {\n",
    "        PIL.ExifTags.TAGS[k]: v\n",
    "        for k, v in img._getexif().items()\n",
    "        if k in PIL.ExifTags.TAGS\n",
    "    }\n",
    "    timestamp = datetime.datetime.strptime(exif.get('DateTime'), TS_FORMAT)\n",
    "    ts_map[fname] = (timestamp, exif.get('Model'), '%dx%d' % (exif.get('ExifImageHeight'), exif.get('ExifImageWidth')))"
   ]
  },
  {
   "cell_type": "code",
   "execution_count": 4,
   "metadata": {
    "collapsed": false
   },
   "outputs": [
    {
     "data": {
      "text/html": [
       "<div>\n",
       "<table border=\"1\" class=\"dataframe\">\n",
       "  <thead>\n",
       "    <tr style=\"text-align: right;\">\n",
       "      <th></th>\n",
       "      <th>filename</th>\n",
       "      <th>timestamp</th>\n",
       "      <th>camera</th>\n",
       "      <th>resolution</th>\n",
       "      <th>timediff</th>\n",
       "    </tr>\n",
       "  </thead>\n",
       "  <tbody>\n",
       "    <tr>\n",
       "      <th>137</th>\n",
       "      <td>G0010205.JPG</td>\n",
       "      <td>2016-07-26 13:06:13</td>\n",
       "      <td>HERO4 Session\u0000\u0000\u0000\u0000\u0000\u0000\u0000\u0000\u0000\u0000</td>\n",
       "      <td>2448x3264</td>\n",
       "      <td>NaN</td>\n",
       "    </tr>\n",
       "    <tr>\n",
       "      <th>2866</th>\n",
       "      <td>G0020206.JPG</td>\n",
       "      <td>2016-07-26 13:07:35</td>\n",
       "      <td>HERO4 Session\u0000\u0000\u0000\u0000\u0000\u0000\u0000\u0000\u0000\u0000</td>\n",
       "      <td>2448x3264</td>\n",
       "      <td>82.0</td>\n",
       "    </tr>\n",
       "    <tr>\n",
       "      <th>2097</th>\n",
       "      <td>G0030207.JPG</td>\n",
       "      <td>2016-07-26 13:16:26</td>\n",
       "      <td>HERO4 Session\u0000\u0000\u0000\u0000\u0000\u0000\u0000\u0000\u0000\u0000</td>\n",
       "      <td>2448x3264</td>\n",
       "      <td>531.0</td>\n",
       "    </tr>\n",
       "    <tr>\n",
       "      <th>2633</th>\n",
       "      <td>GOPR0209.JPG</td>\n",
       "      <td>2016-07-26 13:49:54</td>\n",
       "      <td>HERO4 Session\u0000\u0000\u0000\u0000\u0000\u0000\u0000\u0000\u0000\u0000</td>\n",
       "      <td>2040x2720</td>\n",
       "      <td>2008.0</td>\n",
       "    </tr>\n",
       "    <tr>\n",
       "      <th>3304</th>\n",
       "      <td>GOPR0210.JPG</td>\n",
       "      <td>2016-07-26 13:50:23</td>\n",
       "      <td>HERO4 Session\u0000\u0000\u0000\u0000\u0000\u0000\u0000\u0000\u0000\u0000</td>\n",
       "      <td>2040x2720</td>\n",
       "      <td>29.0</td>\n",
       "    </tr>\n",
       "  </tbody>\n",
       "</table>\n",
       "</div>"
      ],
      "text/plain": [
       "          filename           timestamp                   camera resolution  \\\n",
       "137   G0010205.JPG 2016-07-26 13:06:13  HERO4 Session\u0000\u0000\u0000\u0000\u0000\u0000\u0000\u0000\u0000\u0000  2448x3264   \n",
       "2866  G0020206.JPG 2016-07-26 13:07:35  HERO4 Session\u0000\u0000\u0000\u0000\u0000\u0000\u0000\u0000\u0000\u0000  2448x3264   \n",
       "2097  G0030207.JPG 2016-07-26 13:16:26  HERO4 Session\u0000\u0000\u0000\u0000\u0000\u0000\u0000\u0000\u0000\u0000  2448x3264   \n",
       "2633  GOPR0209.JPG 2016-07-26 13:49:54  HERO4 Session\u0000\u0000\u0000\u0000\u0000\u0000\u0000\u0000\u0000\u0000  2040x2720   \n",
       "3304  GOPR0210.JPG 2016-07-26 13:50:23  HERO4 Session\u0000\u0000\u0000\u0000\u0000\u0000\u0000\u0000\u0000\u0000  2040x2720   \n",
       "\n",
       "      timediff  \n",
       "137        NaN  \n",
       "2866      82.0  \n",
       "2097     531.0  \n",
       "2633    2008.0  \n",
       "3304      29.0  "
      ]
     },
     "execution_count": 4,
     "metadata": {},
     "output_type": "execute_result"
    }
   ],
   "source": [
    "# Compute the difference between frames\n",
    "df = pd.DataFrame.from_dict(ts_map, orient='index').reset_index()\\\n",
    "    .rename(columns={'index': 'filename', 0: 'timestamp', 1: 'camera', 2: 'resolution'}).sort_values('timestamp')\n",
    "df['timediff'] = df['timestamp'].diff().astype('timedelta64[s]')\n",
    "df.head()"
   ]
  },
  {
   "cell_type": "code",
   "execution_count": 5,
   "metadata": {
    "collapsed": false
   },
   "outputs": [
    {
     "data": {
      "text/html": [
       "<div>\n",
       "<table border=\"1\" class=\"dataframe\">\n",
       "  <thead>\n",
       "    <tr style=\"text-align: right;\">\n",
       "      <th></th>\n",
       "      <th>filename</th>\n",
       "      <th>timestamp</th>\n",
       "      <th>camera</th>\n",
       "      <th>resolution</th>\n",
       "      <th>timediff</th>\n",
       "      <th>framegroup</th>\n",
       "    </tr>\n",
       "  </thead>\n",
       "  <tbody>\n",
       "    <tr>\n",
       "      <th>137</th>\n",
       "      <td>G0010205.JPG</td>\n",
       "      <td>2016-07-26 13:06:13</td>\n",
       "      <td>HERO4 Session\u0000\u0000\u0000\u0000\u0000\u0000\u0000\u0000\u0000\u0000</td>\n",
       "      <td>2448x3264</td>\n",
       "      <td>NaN</td>\n",
       "      <td>0</td>\n",
       "    </tr>\n",
       "    <tr>\n",
       "      <th>2866</th>\n",
       "      <td>G0020206.JPG</td>\n",
       "      <td>2016-07-26 13:07:35</td>\n",
       "      <td>HERO4 Session\u0000\u0000\u0000\u0000\u0000\u0000\u0000\u0000\u0000\u0000</td>\n",
       "      <td>2448x3264</td>\n",
       "      <td>82.0</td>\n",
       "      <td>0</td>\n",
       "    </tr>\n",
       "    <tr>\n",
       "      <th>2097</th>\n",
       "      <td>G0030207.JPG</td>\n",
       "      <td>2016-07-26 13:16:26</td>\n",
       "      <td>HERO4 Session\u0000\u0000\u0000\u0000\u0000\u0000\u0000\u0000\u0000\u0000</td>\n",
       "      <td>2448x3264</td>\n",
       "      <td>531.0</td>\n",
       "      <td>1</td>\n",
       "    </tr>\n",
       "    <tr>\n",
       "      <th>2633</th>\n",
       "      <td>GOPR0209.JPG</td>\n",
       "      <td>2016-07-26 13:49:54</td>\n",
       "      <td>HERO4 Session\u0000\u0000\u0000\u0000\u0000\u0000\u0000\u0000\u0000\u0000</td>\n",
       "      <td>2040x2720</td>\n",
       "      <td>2008.0</td>\n",
       "      <td>2</td>\n",
       "    </tr>\n",
       "    <tr>\n",
       "      <th>3304</th>\n",
       "      <td>GOPR0210.JPG</td>\n",
       "      <td>2016-07-26 13:50:23</td>\n",
       "      <td>HERO4 Session\u0000\u0000\u0000\u0000\u0000\u0000\u0000\u0000\u0000\u0000</td>\n",
       "      <td>2040x2720</td>\n",
       "      <td>29.0</td>\n",
       "      <td>2</td>\n",
       "    </tr>\n",
       "  </tbody>\n",
       "</table>\n",
       "</div>"
      ],
      "text/plain": [
       "          filename           timestamp                   camera resolution  \\\n",
       "137   G0010205.JPG 2016-07-26 13:06:13  HERO4 Session\u0000\u0000\u0000\u0000\u0000\u0000\u0000\u0000\u0000\u0000  2448x3264   \n",
       "2866  G0020206.JPG 2016-07-26 13:07:35  HERO4 Session\u0000\u0000\u0000\u0000\u0000\u0000\u0000\u0000\u0000\u0000  2448x3264   \n",
       "2097  G0030207.JPG 2016-07-26 13:16:26  HERO4 Session\u0000\u0000\u0000\u0000\u0000\u0000\u0000\u0000\u0000\u0000  2448x3264   \n",
       "2633  GOPR0209.JPG 2016-07-26 13:49:54  HERO4 Session\u0000\u0000\u0000\u0000\u0000\u0000\u0000\u0000\u0000\u0000  2040x2720   \n",
       "3304  GOPR0210.JPG 2016-07-26 13:50:23  HERO4 Session\u0000\u0000\u0000\u0000\u0000\u0000\u0000\u0000\u0000\u0000  2040x2720   \n",
       "\n",
       "      timediff  framegroup  \n",
       "137        NaN           0  \n",
       "2866      82.0           0  \n",
       "2097     531.0           1  \n",
       "2633    2008.0           2  \n",
       "3304      29.0           2  "
      ]
     },
     "execution_count": 5,
     "metadata": {},
     "output_type": "execute_result"
    }
   ],
   "source": [
    "# Assign values to contiguous frames\n",
    "tmp = df['timediff'] > 120\n",
    "df['framegroup'] = tmp.astype(int).cumsum()\n",
    "df.head()"
   ]
  },
  {
   "cell_type": "code",
   "execution_count": 6,
   "metadata": {
    "collapsed": false
   },
   "outputs": [],
   "source": [
    "# Filter out frames with bogus resolution\n",
    "df['filter'] = 1\n",
    "df['area'] = df['resolution'].apply(lambda x: int(x.split('x')[0]) * int(x.split('x')[1]))\n",
    "for group in df['framegroup'].unique():\n",
    "    ix = df['framegroup'] == group\n",
    "    median = df.loc[ix, 'area'].median()\n",
    "    df.loc[ix, 'filter'] = (df.loc[ix, 'area'] == median).astype(int)"
   ]
  },
  {
   "cell_type": "code",
   "execution_count": 9,
   "metadata": {
    "collapsed": false
   },
   "outputs": [
    {
     "name": "stdout",
     "output_type": "stream",
     "text": [
      "Time span: 2016-07-26 16:54:46 - 2016-07-27 11:15:55 (0 days 18:21:09)\n",
      "Framerate: 14.984908 (~32.032229)\n",
      "\n",
      "Time span: 2016-07-27 16:26:13 - 2016-07-28 10:45:43 (0 days 18:19:30)\n",
      "Framerate: 7.997458 (~60.019074)\n",
      "\n"
     ]
    }
   ],
   "source": [
    "for group in df['framegroup'].unique():\n",
    "    ix = (df['framegroup'] == group) & df['filter']\n",
    "    frames = df.loc[ix]\n",
    "    if len(frames) < 10: continue\n",
    "        \n",
    "    mintime = frames['timestamp'].min()\n",
    "    maxtime = frames['timestamp'].max()\n",
    "    \n",
    "    avediff = frames['timediff'].mean()\n",
    "    framerate = 8.0 * 60.0 / avediff\n",
    "\n",
    "    print('Time span: %s - %s (%s)' % (mintime, maxtime, (maxtime - mintime)))\n",
    "    print('Framerate: %f (~%f)' % (framerate, avediff))\n",
    "    print()"
   ]
  },
  {
   "cell_type": "code",
   "execution_count": 10,
   "metadata": {
    "collapsed": false
   },
   "outputs": [
    {
     "name": "stderr",
     "output_type": "stream",
     "text": [
      "100%|██████████████████████████████████████████████████████████████████████████████| 2203/2203 [16:15<00:00,  2.28it/s]\n",
      "100%|██████████████████████████████████████████████████████████████████████████████| 1101/1101 [07:50<00:00,  2.29it/s]\n"
     ]
    }
   ],
   "source": [
    "enc = VideoEncoder()\n",
    "for group in df['framegroup'].unique():\n",
    "    frames = df[df['filter'] & (df['framegroup'] == group)]\n",
    "    if len(frames) < 10: continue\n",
    "    framerate = 8.0 * 60.0 / frames['timediff'].mean()\n",
    "    enc.start('seastars_%02d.mp4' % group, framerate=framerate)\n",
    "    for fname in tqdm.tqdm(frames['filename'][:]):\n",
    "        img = open(os.path.join('session', fname), 'rb')\n",
    "        enc.encode([img.read()])\n",
    "    enc.close()"
   ]
  }
 ],
 "metadata": {
  "kernelspec": {
   "display_name": "Python 3",
   "language": "python",
   "name": "python3"
  },
  "language_info": {
   "codemirror_mode": {
    "name": "ipython",
    "version": 3
   },
   "file_extension": ".py",
   "mimetype": "text/x-python",
   "name": "python",
   "nbconvert_exporter": "python",
   "pygments_lexer": "ipython3",
   "version": "3.4.4"
  }
 },
 "nbformat": 4,
 "nbformat_minor": 0
}
